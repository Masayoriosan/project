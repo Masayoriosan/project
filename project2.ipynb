{
  "nbformat": 4,
  "nbformat_minor": 0,
  "metadata": {
    "colab": {
      "provenance": [],
      "authorship_tag": "ABX9TyMZNJq0Uc7/pKzC1vc/YIwq",
      "include_colab_link": true
    },
    "kernelspec": {
      "name": "python3",
      "display_name": "Python 3"
    },
    "language_info": {
      "name": "python"
    }
  },
  "cells": [
    {
      "cell_type": "markdown",
      "metadata": {
        "id": "view-in-github",
        "colab_type": "text"
      },
      "source": [
        "<a href=\"https://colab.research.google.com/github/Masayoriosan/project/blob/main/project2.ipynb\" target=\"_parent\"><img src=\"https://colab.research.google.com/assets/colab-badge.svg\" alt=\"Open In Colab\"/></a>"
      ]
    },
    {
      "cell_type": "code",
      "execution_count": null,
      "metadata": {
        "colab": {
          "base_uri": "https://localhost:8080/"
        },
        "id": "ankuUFjqE6Mc",
        "outputId": "88d644b9-7a66-4f7e-8794-612f47694e16"
      },
      "outputs": [
        {
          "output_type": "stream",
          "name": "stdout",
          "text": [
            "                countryname  GDP_growth  TFP_growth  capital_deepening  \\\n",
            "countrycode                                                              \n",
            "CAN                  Canada    0.887700    0.648264           0.239437   \n",
            "DEU                 Germany    0.662448    0.501324           0.161122   \n",
            "FRA                  France    0.816542    0.212720           0.603822   \n",
            "GBR          United Kingdom    1.036837   -0.274969           1.311810   \n",
            "ITA                  Italia   -0.045964   -0.549236           0.503274   \n",
            "JPN                   Japan    0.757615    0.721106           0.036508   \n",
            "USA           United States    1.440635    0.835166           0.605465   \n",
            "\n",
            "                TFP寄与率    資本深化寄与率  \n",
            "countrycode                        \n",
            "CAN           0.730274   0.269728  \n",
            "DEU           0.756774   0.243222  \n",
            "FRA           0.260513   0.739487  \n",
            "GBR          -0.265200   1.265203  \n",
            "ITA          11.949149 -10.949213  \n",
            "JPN           0.951811   0.048188  \n",
            "USA           0.579721   0.420277  \n"
          ]
        }
      ],
      "source": [
        "import pandas as pd\n",
        "import numpy as np\n",
        "import matplotlib.pyplot as plt\n",
        "\n",
        "\n",
        "\n",
        "pwt10 = pd.read_stata('https://dataverse.nl/api/access/datafile/354098')\n",
        "\n",
        "data = pwt10.loc[pwt10['country'].isin([\"France\",\"Germany\",\"Canada\",\"Italy\",\"Japan\",\"United Kingdom\",\"United States\"])][['year', 'countrycode', 'rgdpna', 'rkna', 'emp', 'labsh']]\n",
        "data = data.loc[(data['year'] >= 1995) & (data['year'] <= 2019)].dropna()\n",
        "\n",
        "\n",
        "\n",
        "\n",
        "data['a'] = 1 - data['labsh']  \n",
        "data['KL'] = (data['rkna']**data['a']) * (data['emp']**(1 - data['a']))\n",
        "data['A'] = data['rgdpna'] / ((data['rkna']**data['a']) * (data['emp']**(1 - data['a'])))  \n",
        "data['Y'] = data['rgdpna'] \n",
        "\n",
        "\n",
        "data['logy'] = np.log(data['rgdpna'] / data['emp'])  \n",
        "data['logk'] = np.log(data['KL'] / data['emp']) \n",
        "data['logA'] = np.log(data['A'])\n",
        "\n",
        "\n",
        "data['dt'] = data['year'].diff()  \n",
        "\n",
        "data['dlogy_dt'] = data['logy'].diff() / data['dt']\n",
        "data['dlogk_dt'] = data['logk'].diff() / data['dt']\n",
        "data['dlogA_dt'] = data['logA'].diff() / data['dt']\n",
        "\n",
        "\n",
        "data['TFP_growth'] = data['dlogA_dt'] * 100  \n",
        "data['capital_deepening'] = data['dlogk_dt'] * 100  \n",
        "data['GDP_growth'] = data['dlogy_dt'] * 100  \n",
        "\n",
        "\n",
        "\n",
        "\n",
        "data = data.dropna()\n",
        "\n",
        "\n",
        "country_names = {\n",
        "    'USA': 'United States',\n",
        "    'JPN': 'Japan',\n",
        "    'CAN': 'Canada',\n",
        "    'DEU': 'Germany',\n",
        "    'FRA': 'France',\n",
        "    'GBR': 'United Kingdom',\n",
        "    'ITA':'Italia',\n",
        "}\n",
        "\n",
        "\n",
        "\n",
        "summary = data.groupby('countrycode').agg({'GDP_growth': 'mean',\n",
        "                                           'TFP_growth': 'mean',\n",
        "                                           'capital_deepening': 'mean'})\n",
        "\n",
        "\n",
        "\n",
        "summary['TFP寄与率'] = summary['TFP_growth'] / summary['GDP_growth'] \n",
        "summary['資本深化寄与率'] = summary['capital_deepening'] / summary['GDP_growth']\n",
        "\n",
        "summary['countryname'] = summary.index.map(country_names)\n",
        "\n",
        "summary = summary[['countryname', 'GDP_growth', 'TFP_growth', 'capital_deepening','TFP寄与率','資本深化寄与率']]\n",
        "\n",
        "\n",
        "\n",
        "print(summary)\n"
      ]
    }
  ]
}