{
  "nbformat": 4,
  "nbformat_minor": 0,
  "metadata": {
    "colab": {
      "provenance": [],
      "authorship_tag": "ABX9TyOqzWcObH1rAF2CZNqQ0FB2",
      "include_colab_link": true
    },
    "kernelspec": {
      "name": "python3",
      "display_name": "Python 3"
    },
    "language_info": {
      "name": "python"
    }
  },
  "cells": [
    {
      "cell_type": "markdown",
      "metadata": {
        "id": "view-in-github",
        "colab_type": "text"
      },
      "source": [
        "<a href=\"https://colab.research.google.com/github/Masayoriosan/project/blob/main/project2.ipynb\" target=\"_parent\"><img src=\"https://colab.research.google.com/assets/colab-badge.svg\" alt=\"Open In Colab\"/></a>"
      ]
    },
    {
      "cell_type": "code",
      "execution_count": 29,
      "metadata": {
        "colab": {
          "base_uri": "https://localhost:8080/"
        },
        "id": "ankuUFjqE6Mc",
        "outputId": "e0ccfa01-572e-4aaa-cb23-a2e74e1dae11"
      },
      "outputs": [
        {
          "output_type": "stream",
          "name": "stdout",
          "text": [
            "             GDP_growth  capital_deepening  TFP_growth       TFP寄与率  \\\n",
            "countrycode                                                           \n",
            "CAN            0.887700           0.239437    0.648264    73.027397   \n",
            "DEU            0.662448           0.161122    0.501324    75.677399   \n",
            "FRA            0.816542           0.603822    0.212720    26.051325   \n",
            "GBR            1.036837           1.311810   -0.274969   -26.520018   \n",
            "ITA           -0.045964           0.503274   -0.549236  1194.914917   \n",
            "JPN            0.757615           0.036508    0.721106    95.181152   \n",
            "USA            1.440635           0.605465    0.835166    57.972073   \n",
            "\n",
            "                 資本深化寄与率  \n",
            "countrycode               \n",
            "CAN            26.972775  \n",
            "DEU            24.322161  \n",
            "FRA            73.948730  \n",
            "GBR           126.520309  \n",
            "ITA         -1094.921265  \n",
            "JPN             4.818804  \n",
            "USA            42.027660  \n"
          ]
        }
      ],
      "source": [
        "import pandas as pd\n",
        "import numpy as np\n",
        "import matplotlib.pyplot as plt\n",
        "\n",
        "\n",
        "# Load data\n",
        "pwt10 = pd.read_stata('https://dataverse.nl/api/access/datafile/354098')\n",
        "# Filter and select relevant columns\n",
        "data = pwt10.loc[pwt10['country'].isin([\"France\",\"Germany\",\"Canada\",\"Italy\",\"Japan\",\"United Kingdom\",\"United States\"])][['year', 'countrycode', 'rgdpna', 'rkna', 'emp', 'labsh']]\n",
        "data = data.loc[(data['year'] >= 1995) & (data['year'] <= 2019)].dropna()\n",
        "# Calculate additional columns\n",
        "data['a'] = 1 - data['labsh']  # 資本の所得割合（Capital's Share of Income）\n",
        "data['KL'] = (data['rkna']**data['a']) * (data['emp']**(1 - data['a']))\n",
        "data['A'] = data['rgdpna'] / ((data['rkna']**data['a']) * (data['emp']**(1 - data['a'])))  # 総要素生産性（Total Factor Productivity, TFP）\n",
        "data['Y'] = data['rgdpna']  # 国内総生産（Gross Domestic Product, GDP）\n",
        "\n",
        "\n",
        "data['logy'] = np.log(data['rgdpna'] / data['emp'])  # Log GDP per worker\n",
        "data['logk'] = np.log(data['KL'] / data['emp'])  # Log Capital per worker\n",
        "data['logA'] = np.log(data['A'])\n",
        "\n",
        "\n",
        "\n",
        "\n",
        "# Calculate time differences\n",
        "data['dt'] = data['year'].diff()  # Time difference\n",
        "\n",
        "\n",
        "# Calculate differentials\n",
        "data['dlogy_dt'] = data['logy'].diff() / data['dt']\n",
        "data['dlogk_dt'] = data['logk'].diff() / data['dt']\n",
        "data['dlogA_dt'] = data['logA'].diff() / data['dt']\n",
        "\n",
        "\n",
        "# 年度でソート\n",
        "data = data.sort_values('year')\n",
        "\n",
        "\n",
        "# ISOコードでグループ化\n",
        "grouped_data = data.groupby('countrycode')\n",
        "\n",
        "\n",
        "# TFP成長率と資本深化率を計算\n",
        "data['TFP_growth'] = data['dlogA_dt'] * 100  # TFP成長率\n",
        "data['capital_deepening'] = data['dlogk_dt'] * 100  # 資本深化率\n",
        "data['GDP_growth'] = data['dlogy_dt'] * 100  # 経済成長率（GDP成長率）\n",
        "\n",
        "\n",
        "\n",
        "\n",
        "\n",
        "\n",
        "# 欠損値を削除\n",
        "data = data.dropna()\n",
        "\n",
        "\n",
        "# サマリー統計量を計算\n",
        "summary = data.groupby('countrycode').agg({'GDP_growth': 'mean',\n",
        "                                           'capital_deepening': 'mean',\n",
        "                                           'TFP_growth': 'mean'})\n",
        "\n",
        "\n",
        "# TFP寄与率と資本深化寄与率を計算\n",
        "summary['TFP寄与率'] = summary['TFP_growth'] / summary['GDP_growth'] * 100\n",
        "summary['資本深化寄与率'] = summary['capital_deepening'] / summary['GDP_growth'] * 100\n",
        "\n",
        "\n",
        "\n",
        "\n",
        "# 結果を表示\n",
        "print(summary)\n"
      ]
    }
  ]
}